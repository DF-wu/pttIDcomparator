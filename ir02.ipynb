{
 "metadata": {
  "language_info": {
   "codemirror_mode": {
    "name": "ipython",
    "version": 3
   },
   "file_extension": ".py",
   "mimetype": "text/x-python",
   "name": "python",
   "nbconvert_exporter": "python",
   "pygments_lexer": "ipython3",
   "version": "3.8.8"
  },
  "orig_nbformat": 2,
  "kernelspec": {
   "name": "python388jvsc74a57bd03242fe88ee299763c01d0bb81546e51fba598b10f02b9c3d944a8bc4c2f5d633",
   "display_name": "Python 3.8.8 64-bit ('df': conda)"
  }
 },
 "nbformat": 4,
 "nbformat_minor": 2,
 "cells": [
  {
   "cell_type": "code",
   "execution_count": null,
   "metadata": {},
   "outputs": [],
   "source": [
    "# 隨機十篇id\n",
    "# M.1127219109.A.837\n",
    "# M.1127227032.A.F3B\n",
    "# M.1127365129.A.D61\n",
    "# M.1127395683.A.DB9\n",
    "# M.1127526873.A.CD5\n",
    "# M.1127533364.A.C32\n",
    "# M.1127544042.A.E06\n",
    "# M.1127586620.A.EDB\n",
    "# M.1127588070.A.525\n",
    "# M.1127590679.A.006\n"
   ]
  },
  {
   "cell_type": "code",
   "execution_count": 19,
   "metadata": {},
   "outputs": [],
   "source": [
    "# 用比較快快的json parser : ujson\n",
    "try:\n",
    "    import ujson as json\n",
    "except ImportError:\n",
    "    try:\n",
    "        import simplejson as json\n",
    "    except ImportError:\n",
    "        import json\n",
    "\n",
    "import math\n",
    "\n",
    "\n",
    "# load tfidf\n",
    "def readJson2Data(filename):\n",
    "  f = open(filename, \"r\", encoding='UTF-8')\n",
    "  docText = f.read()\n",
    "  f.close()\n",
    "  return json.loads(docText)\n",
    "\n",
    "\n"
   ]
  },
  {
   "cell_type": "code",
   "execution_count": 2,
   "metadata": {},
   "outputs": [],
   "source": [
    "SAMPLE = 'sample1000.json'\n",
    "ALLDATA = 'gossiping_dataset_doc_vector.json'\n",
    "data_tfidf = readJson2Data(SAMPLE)\n",
    "\n"
   ]
  },
  {
   "cell_type": "code",
   "execution_count": 3,
   "metadata": {},
   "outputs": [],
   "source": [
    "# tools\n",
    "def saveSmallData(data):\n",
    "    jsObj = json.dumps(data)\n",
    "    \n",
    "    fileObject = open('sample1000.json', 'w')\n",
    "    fileObject.write(jsObj)\n",
    "    fileObject.close()  \n",
    "# saveSmallData(sample)    "
   ]
  },
  {
   "cell_type": "code",
   "execution_count": 9,
   "metadata": {},
   "outputs": [
    {
     "output_type": "stream",
     "name": "stdout",
     "text": [
      "M.1127219109.A.837\nM.1127227032.A.F3B\nM.1127365129.A.D61\nM.1127395683.A.DB9\nM.1127526873.A.CD5\nM.1127533364.A.C32\nM.1127544042.A.E06\nM.1127586620.A.EDB\nM.1127588070.A.525\nM.1127590679.A.006\n"
     ]
    }
   ],
   "source": [
    "\n",
    "\n",
    "sample = {}\n",
    "counter = 0\n",
    "for k in data_tfidf.keys():\n",
    "    if counter == 10:\n",
    "        break\n",
    "    print(k)\n",
    "    data_tfidf[k]\n",
    "    sample[k] = data_tfidf[k]\n",
    "\n",
    "    counter = counter + 1"
   ]
  },
  {
   "cell_type": "code",
   "execution_count": 18,
   "metadata": {},
   "outputs": [
    {
     "output_type": "stream",
     "name": "stdout",
     "text": [
      "0.061299164513706546\n0.06357538203009586\n0.025219464223066857\n0.032591316967399454\n0.021506926704879775\n0.021856437389587275\n0.14448621613593726\n0.15319949509168582\n0.03547108966373669\n0.056285334040362754\n0.07067876523062343\n0.031794190785616086\n0.04574606352511516\n0.08215367591688302\n0.04777362743650533\n0.0438859895048074\n0.10056986904833362\n0.11695759348628047\n0.06646007985172464\n0.01533018125818423\n0.012884607948533421\n0.12597902138229752\n0.04653726094947778\n0.058187733715991063\n0.0198541810762566\n0.09532743998015608\n0.037878769526195226\n0.05697700366876267\n0.058224117245979874\n0.05781192595671208\n0.02612598456066965\n0.03863713286884628\n0.1478508394755249\n0.036035144068431675\n0.039715581416385856\n0.12883256787972408\n0.061138084808307375\n0.04786534868915153\n0.09827970654885833\n0.14141834621135066\n0.07836175128801515\n0.06386091620198975\n0.08133883752273477\n0.08384177220516788\n0.03357076680787673\n0.061972395652619944\n0.05316728885964829\n0.06663442572791275\n0.12775479168331025\n0.23032436787010754\n0.14751971512158518\n0.16842790110880235\n0.16082097061488515\n0.03970958302221239\n0.052530920391637106\n0.1618230806212954\n0.07856350733333611\n0.03227379323521597\n0.11972082122895089\n0.04834449687669252\n0.10561280941231385\n0.060312839290574134\n0.03233540339187183\n0.0467794210596091\n0.014342360802541294\n0.05430042451092526\n0.12154351112972694\n0.050389923239032824\n0.08942488858680112\n0.029631787749840682\n0.04048628519501743\n0.03213299990424269\n0.11722033569233895\n0.05915484758586492\n0.042234540352316614\n0.10857354466690729\n0.05459617725362232\n0.09185606085893447\n0.11252332536405\n0.036494625246635014\n0.02338395020763264\n0.15486398008574853\n0.1369720777447948\n0.08792764196489104\n0.11133238605845767\n0.03374227996829714\n0.15269302900286344\n0.013501109942454815\n0.1259970832076263\n0.11982575324232804\n0.010562362402204801\n0.04613659775542289\n0.05641409794315826\n0.1217166964528378\n0.017570006956436974\n0.07591209952566566\n0.07269845777160047\n0.058655397223917764\n0.004210670711143363\n0.11749834389699482\n0.11925551774328408\n0.21176308818572911\n0.03255862595273926\n0.04286435329736413\n0.10827792692884107\n0.06846424599142356\n0.06759055011757176\n0.08397243114734715\n0.07322695889171203\n0.18410051409282138\n0.022048143206984686\n0.05492581420320274\n0.04863748470210242\n0.1512483446394175\n0.06797411778353502\n0.07929070686846007\n0.08575711608772439\n0.07073331946666088\n0.09525676793608046\n0.017478280229060696\n0.037994434737376015\n0.04308900922856938\n0.06001468791380335\n0.16336842961144374\n0.039535707895348354\n0.060639367484243326\n0.12262175131340207\n0.13255491824310078\n0.015976848502929554\n"
     ]
    }
   ],
   "source": [
    "counter = 0\n",
    "\n",
    "for i in data_tfidf['M.1127219109.A.837'].keys():\n",
    "    print(data_tfidf['M.1127219109.A.837'][i])\n",
    "counter = counter + 1\n"
   ]
  },
  {
   "cell_type": "code",
   "execution_count": 5,
   "metadata": {},
   "outputs": [],
   "source": [
    "def askTargetUser(uid):\n",
    "    name = input(\"請輸入需要查詢的使用者名稱\")\n",
    "    return name\n"
   ]
  },
  {
   "cell_type": "code",
   "execution_count": 20,
   "metadata": {},
   "outputs": [],
   "source": [
    "def calNormalizedLength(ida):\n",
    "    vector = {}\n",
    "    sum = 0\n",
    "    for word in data_tfidf[ida].keys():\n",
    "        sum = sum + math.pow(data_tfidf[ida][word], 2)\n",
    "    \n",
    "    sqrt = math.sqrt(sum)\n",
    "\n",
    "    # 每項除除平方根\n",
    "    for word in data_tfidf[ida].keys():\n",
    "        vector[word] = data_tfidf[ida][word] / sqrt\n",
    "    return vector\n"
   ]
  },
  {
   "cell_type": "code",
   "execution_count": 22,
   "metadata": {},
   "outputs": [],
   "source": [
    "def findCommonWordSet(ida,idb):\n",
    "    CommonWordSet = set()\n",
    "    ASet = set( data_tfidf[ida].keys() )\n",
    "    Bset = set( data_tfidf[idb].keys() )\n",
    "\n",
    "    for token in Aset:\n",
    "        if token in Bset:\n",
    "            CommonWordSet.append(token)\n",
    "    return CommonWordSet"
   ]
  },
  {
   "cell_type": "code",
   "execution_count": null,
   "metadata": {},
   "outputs": [],
   "source": []
  },
  {
   "cell_type": "code",
   "execution_count": null,
   "metadata": {},
   "outputs": [],
   "source": [
    "def cos(ida,idb):\n",
    "    # calNormalizedLength\n",
    "    ida_NL = calNormalizedLength(ida)\n",
    "    idb_NL = calNormalizedLength(idb)\n",
    "\n",
    "    # findCommonWordSet\n",
    "    commonWordSet = findCommonWordSet(ida,idb)\n",
    "\n",
    "    # calCos\n",
    "    "
   ]
  }
 ]
}