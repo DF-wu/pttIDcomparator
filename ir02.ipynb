{
 "metadata": {
  "language_info": {
   "codemirror_mode": {
    "name": "ipython",
    "version": 3
   },
   "file_extension": ".py",
   "mimetype": "text/x-python",
   "name": "python",
   "nbconvert_exporter": "python",
   "pygments_lexer": "ipython3",
   "version": "3.8.8"
  },
  "orig_nbformat": 2,
  "kernelspec": {
   "name": "python388jvsc74a57bd03242fe88ee299763c01d0bb81546e51fba598b10f02b9c3d944a8bc4c2f5d633",
   "display_name": "Python 3.8.8 64-bit ('df': conda)"
  }
 },
 "nbformat": 4,
 "nbformat_minor": 2,
 "cells": [
  {
   "cell_type": "code",
   "execution_count": 1,
   "metadata": {},
   "outputs": [],
   "source": [
    "# 隨機十篇id\n",
    "# M.1127219109.A.837\n",
    "# M.1127227032.A.F3B\n",
    "# M.1127365129.A.D61\n",
    "# M.1127395683.A.DB9\n",
    "# M.1127526873.A.CD5\n",
    "# M.1127533364.A.C32\n",
    "# M.1127544042.A.E06\n",
    "# M.1127586620.A.EDB\n",
    "# M.1127588070.A.525\n",
    "# M.1127590679.A.006\n"
   ]
  },
  {
   "cell_type": "code",
   "execution_count": 2,
   "metadata": {},
   "outputs": [],
   "source": [
    "# 用比較快快的json parser : ujson\n",
    "try:\n",
    "    import ujson as json\n",
    "except ImportError:\n",
    "    try:\n",
    "        import simplejson as json\n",
    "    except ImportError:\n",
    "        import json\n",
    "\n",
    "import math\n",
    "\n",
    "\n",
    "# load tfidf\n",
    "def readJson2Data(filename):\n",
    "  f = open(filename, \"r\", encoding='UTF-8')\n",
    "  docText = f.read()\n",
    "  f.close()\n",
    "  return json.loads(docText)\n"
   ]
  },
  {
   "cell_type": "code",
   "execution_count": 3,
   "metadata": {},
   "outputs": [],
   "source": [
    "SAMPLE = 'sample1000_gossiping_dataset_doc_vector.json'\n",
    "ALLDATA = 'gossiping_dataset_doc_vector.json'\n",
    "data_tfidf = readJson2Data(ALLDATA)\n",
    "\n",
    "\n",
    "\n",
    "\n",
    "\n",
    "DOC_NAME = 'data_user-docIDs.json'\n",
    "docID_name = readJson2Data(DOC_NAME)\n"
   ]
  },
  {
   "cell_type": "code",
   "execution_count": 4,
   "metadata": {},
   "outputs": [],
   "source": [
    "# # tools\n",
    "# def saveSmallData(data):\n",
    "#     jsObj = json.dumps(data)\n",
    "    \n",
    "#     fileObject = open('sample1000.json', 'w')\n",
    "#     fileObject.write(jsObj)\n",
    "#     fileObject.close()  \n",
    "# # saveSmallData(sample)    "
   ]
  },
  {
   "cell_type": "code",
   "execution_count": 5,
   "metadata": {},
   "outputs": [
    {
     "output_type": "stream",
     "name": "stdout",
     "text": [
      "M.1127219109.A.837\nM.1127227032.A.F3B\nM.1127365129.A.D61\nM.1127395683.A.DB9\nM.1127526873.A.CD5\nM.1127533364.A.C32\nM.1127544042.A.E06\nM.1127586620.A.EDB\nM.1127588070.A.525\nM.1127590679.A.006\n"
     ]
    }
   ],
   "source": [
    "\n",
    "\n",
    "sample = {}\n",
    "counter = 0\n",
    "for k in data_tfidf.keys():\n",
    "    if counter == 10:\n",
    "        break\n",
    "    print(k)\n",
    "    data_tfidf[k]\n",
    "    sample[k] = data_tfidf[k]\n",
    "\n",
    "    counter = counter + 1"
   ]
  },
  {
   "cell_type": "code",
   "execution_count": 6,
   "metadata": {},
   "outputs": [],
   "source": [
    "def calNormalizedLength(id):\n",
    "    vector = {}\n",
    "    sum = 0\n",
    "    for word in data_tfidf[id].keys(): \n",
    "        sum = sum + math.pow(data_tfidf[id][word], 2)\n",
    "    \n",
    "    sqrt = math.sqrt(sum)\n",
    "\n",
    "    # 每項除除平方根\n",
    "    for word in data_tfidf[id].keys():\n",
    "        vector[word] = data_tfidf[id][word] / sqrt\n",
    "    return vector\n"
   ]
  },
  {
   "cell_type": "code",
   "execution_count": 7,
   "metadata": {},
   "outputs": [],
   "source": [
    "def findCommonWordSet(ida,idb):\n",
    "    CommonWordSet = set()\n",
    "    Aset = set( data_tfidf[ida].keys() )\n",
    "    Bset = set( data_tfidf[idb].keys() )\n",
    "\n",
    "    for token in Aset:\n",
    "        if token in Bset:\n",
    "            CommonWordSet.add(token)\n",
    "    return CommonWordSet"
   ]
  },
  {
   "cell_type": "code",
   "execution_count": 8,
   "metadata": {},
   "outputs": [],
   "source": [
    "def cos(ida,idb):\n",
    "    # calNormalizedLength\n",
    "    ida_NL = calNormalizedLength(ida)\n",
    "    idb_NL = calNormalizedLength(idb)\n",
    "\n",
    "    # findCommonWordSet\n",
    "    commonWordSet = findCommonWordSet(ida,idb)\n",
    "\n",
    "    # calCos  內積\n",
    "    sum = 0\n",
    "    for word in commonWordSet:\n",
    "        sum = sum + ida_NL[word] * idb_NL[word]\n",
    "    \n",
    "    return sum"
   ]
  },
  {
   "cell_type": "code",
   "execution_count": 9,
   "metadata": {},
   "outputs": [
    {
     "output_type": "execute_result",
     "data": {
      "text/plain": [
       "0.026840096055049067"
      ]
     },
     "metadata": {},
     "execution_count": 9
    }
   ],
   "source": [
    "cos('M.1127219109.A.837','M.1127227032.A.F3B')"
   ]
  },
  {
   "cell_type": "code",
   "execution_count": 10,
   "metadata": {},
   "outputs": [],
   "source": [
    "def isUserValid(name):\n",
    "    try:\n",
    "        docID_name[name]\n",
    "        return True\n",
    "    except:\n",
    "        return False\n"
   ]
  },
  {
   "cell_type": "code",
   "execution_count": 11,
   "metadata": {},
   "outputs": [],
   "source": [
    "def ui():\n",
    "    name = input(\"請輸入使用者ID\")\n",
    "    if isUserValid(name) == False:\n",
    "        print(\"使用者ID不合法或未在資料庫內 請重新輸入\")\n",
    "        return 0\n",
    "    else:\n",
    "        return name\n",
    "        \n"
   ]
  },
  {
   "cell_type": "code",
   "execution_count": 12,
   "metadata": {},
   "outputs": [],
   "source": [
    "import copy\n",
    "taskDict = {}\n",
    "\n",
    "def getTargetDocs(targetName):\n",
    "    return docID_name[targetName]\n",
    "    "
   ]
  },
  {
   "cell_type": "code",
   "execution_count": 15,
   "metadata": {
    "tags": []
   },
   "outputs": [
    {
     "output_type": "error",
     "ename": "KeyboardInterrupt",
     "evalue": "Interrupted by user",
     "traceback": [
      "\u001b[1;31m---------------------------------------------------------------------------\u001b[0m",
      "\u001b[1;31mKeyboardInterrupt\u001b[0m                         Traceback (most recent call last)",
      "\u001b[1;32m<ipython-input-15-6c3c3c984bd2>\u001b[0m in \u001b[0;36m<module>\u001b[1;34m\u001b[0m\n\u001b[0;32m     44\u001b[0m \u001b[1;33m\u001b[0m\u001b[0m\n\u001b[0;32m     45\u001b[0m     \u001b[0mname\u001b[0m \u001b[1;33m=\u001b[0m \u001b[0mui\u001b[0m\u001b[1;33m(\u001b[0m\u001b[1;33m)\u001b[0m\u001b[1;33m\u001b[0m\u001b[1;33m\u001b[0m\u001b[0m\n\u001b[1;32m---> 46\u001b[1;33m     \u001b[1;32mif\u001b[0m \u001b[0mui\u001b[0m\u001b[1;33m(\u001b[0m\u001b[1;33m)\u001b[0m \u001b[1;33m==\u001b[0m \u001b[1;36m0\u001b[0m\u001b[1;33m:\u001b[0m\u001b[1;33m\u001b[0m\u001b[1;33m\u001b[0m\u001b[0m\n\u001b[0m\u001b[0;32m     47\u001b[0m         \u001b[0mprint\u001b[0m\u001b[1;33m(\u001b[0m\u001b[1;34m\"retry\"\u001b[0m\u001b[1;33m)\u001b[0m\u001b[1;33m\u001b[0m\u001b[1;33m\u001b[0m\u001b[0m\n\u001b[0;32m     48\u001b[0m     \u001b[1;32melse\u001b[0m\u001b[1;33m:\u001b[0m\u001b[1;33m\u001b[0m\u001b[1;33m\u001b[0m\u001b[0m\n",
      "\u001b[1;32m<ipython-input-11-2cec82ba59bd>\u001b[0m in \u001b[0;36mui\u001b[1;34m()\u001b[0m\n\u001b[0;32m      1\u001b[0m \u001b[1;32mdef\u001b[0m \u001b[0mui\u001b[0m\u001b[1;33m(\u001b[0m\u001b[1;33m)\u001b[0m\u001b[1;33m:\u001b[0m\u001b[1;33m\u001b[0m\u001b[1;33m\u001b[0m\u001b[0m\n\u001b[1;32m----> 2\u001b[1;33m     \u001b[0mname\u001b[0m \u001b[1;33m=\u001b[0m \u001b[0minput\u001b[0m\u001b[1;33m(\u001b[0m\u001b[1;34m\"請輸入使用者ID\"\u001b[0m\u001b[1;33m)\u001b[0m\u001b[1;33m\u001b[0m\u001b[1;33m\u001b[0m\u001b[0m\n\u001b[0m\u001b[0;32m      3\u001b[0m     \u001b[1;32mif\u001b[0m \u001b[0misUserValid\u001b[0m\u001b[1;33m(\u001b[0m\u001b[0mname\u001b[0m\u001b[1;33m)\u001b[0m \u001b[1;33m==\u001b[0m \u001b[1;32mFalse\u001b[0m\u001b[1;33m:\u001b[0m\u001b[1;33m\u001b[0m\u001b[1;33m\u001b[0m\u001b[0m\n\u001b[0;32m      4\u001b[0m         \u001b[0mprint\u001b[0m\u001b[1;33m(\u001b[0m\u001b[1;34m\"使用者ID不合法或未在資料庫內 請重新輸入\"\u001b[0m\u001b[1;33m)\u001b[0m\u001b[1;33m\u001b[0m\u001b[1;33m\u001b[0m\u001b[0m\n\u001b[0;32m      5\u001b[0m         \u001b[1;32mreturn\u001b[0m \u001b[1;32mFalse\u001b[0m\u001b[1;33m\u001b[0m\u001b[1;33m\u001b[0m\u001b[0m\n",
      "\u001b[1;32mD:\\ANACONDA3\\envs\\df\\lib\\site-packages\\ipykernel\\kernelbase.py\u001b[0m in \u001b[0;36mraw_input\u001b[1;34m(self, prompt)\u001b[0m\n\u001b[0;32m    858\u001b[0m                 \u001b[1;34m\"raw_input was called, but this frontend does not support input requests.\"\u001b[0m\u001b[1;33m\u001b[0m\u001b[1;33m\u001b[0m\u001b[0m\n\u001b[0;32m    859\u001b[0m             )\n\u001b[1;32m--> 860\u001b[1;33m         return self._input_request(str(prompt),\n\u001b[0m\u001b[0;32m    861\u001b[0m             \u001b[0mself\u001b[0m\u001b[1;33m.\u001b[0m\u001b[0m_parent_ident\u001b[0m\u001b[1;33m,\u001b[0m\u001b[1;33m\u001b[0m\u001b[1;33m\u001b[0m\u001b[0m\n\u001b[0;32m    862\u001b[0m             \u001b[0mself\u001b[0m\u001b[1;33m.\u001b[0m\u001b[0m_parent_header\u001b[0m\u001b[1;33m,\u001b[0m\u001b[1;33m\u001b[0m\u001b[1;33m\u001b[0m\u001b[0m\n",
      "\u001b[1;32mD:\\ANACONDA3\\envs\\df\\lib\\site-packages\\ipykernel\\kernelbase.py\u001b[0m in \u001b[0;36m_input_request\u001b[1;34m(self, prompt, ident, parent, password)\u001b[0m\n\u001b[0;32m    902\u001b[0m             \u001b[1;32mexcept\u001b[0m \u001b[0mKeyboardInterrupt\u001b[0m\u001b[1;33m:\u001b[0m\u001b[1;33m\u001b[0m\u001b[1;33m\u001b[0m\u001b[0m\n\u001b[0;32m    903\u001b[0m                 \u001b[1;31m# re-raise KeyboardInterrupt, to truncate traceback\u001b[0m\u001b[1;33m\u001b[0m\u001b[1;33m\u001b[0m\u001b[1;33m\u001b[0m\u001b[0m\n\u001b[1;32m--> 904\u001b[1;33m                 \u001b[1;32mraise\u001b[0m \u001b[0mKeyboardInterrupt\u001b[0m\u001b[1;33m(\u001b[0m\u001b[1;34m\"Interrupted by user\"\u001b[0m\u001b[1;33m)\u001b[0m \u001b[1;32mfrom\u001b[0m \u001b[1;32mNone\u001b[0m\u001b[1;33m\u001b[0m\u001b[1;33m\u001b[0m\u001b[0m\n\u001b[0m\u001b[0;32m    905\u001b[0m             \u001b[1;32mexcept\u001b[0m \u001b[0mException\u001b[0m \u001b[1;32mas\u001b[0m \u001b[0me\u001b[0m\u001b[1;33m:\u001b[0m\u001b[1;33m\u001b[0m\u001b[1;33m\u001b[0m\u001b[0m\n\u001b[0;32m    906\u001b[0m                 \u001b[0mself\u001b[0m\u001b[1;33m.\u001b[0m\u001b[0mlog\u001b[0m\u001b[1;33m.\u001b[0m\u001b[0mwarning\u001b[0m\u001b[1;33m(\u001b[0m\u001b[1;34m\"Invalid Message:\"\u001b[0m\u001b[1;33m,\u001b[0m \u001b[0mexc_info\u001b[0m\u001b[1;33m=\u001b[0m\u001b[1;32mTrue\u001b[0m\u001b[1;33m)\u001b[0m\u001b[1;33m\u001b[0m\u001b[1;33m\u001b[0m\u001b[0m\n",
      "\u001b[1;31mKeyboardInterrupt\u001b[0m: Interrupted by user"
     ]
    }
   ],
   "source": [
    "#開啟多個執行緒，同時執行任務，有幾個執行緒就執行幾個任務\n",
    "\n",
    "import threading\n",
    "import time\n",
    "import queue\n",
    "\n",
    "results = {}\n",
    "\n",
    "class MyThread(threading.Thread):\n",
    "    def __init__(self, func):\n",
    "        threading.Thread.__init__(self)\n",
    "        self.func = func\n",
    "    def run(self):\n",
    "        self.func()\n",
    "\n",
    "def worker():\n",
    "    while not q.empty():\n",
    "        item = q.get()  # 或得任務\n",
    "        print('Processing : ',item)\n",
    "        doca , docb = item.split('+')\n",
    "        try:\n",
    "            results[docb] = cos(doca,docb)\n",
    "        except:\n",
    "            print('error ' + doca + '  '+ docb)\n",
    "\n",
    "def main(name):\n",
    "    threads = []\n",
    "    targetList = getTargetDocs(name)\n",
    "    # 產生task list\n",
    "    for doc in targetList:\n",
    "        for pttdoc in data_tfidf.keys():\n",
    "            q.put(doc + '+' +pttdoc)\n",
    "\n",
    "    for i in range(threadNum):   #開啟三個執行緒\n",
    "        thread = MyThread(worker)\n",
    "        thread.start()\n",
    "        threads.append(thread)\n",
    "    for thread in threads:\n",
    "        thread.join()\n",
    "\n",
    "if __name__ == '__main__':\n",
    "    q = queue.Queue()\n",
    "    threadNum = 23\n",
    "    \n",
    "    name = ui()\n",
    "    if name == 0:\n",
    "        print(\"retry\")\n",
    "    else:\n",
    "        main(name)"
   ]
  },
  {
   "cell_type": "code",
   "execution_count": null,
   "metadata": {},
   "outputs": [],
   "source": [
    "len(result)"
   ]
  },
  {
   "cell_type": "code",
   "execution_count": null,
   "metadata": {},
   "outputs": [],
   "source": [
    "cos('M.1353503637.A.14B','M.1173516369.A.2C4')\n",
    "cos('M.1353503637.A.14B','M.1173625796.A.F2A')\n",
    "cos('M.1353503637.A.14B','M.1173629372.A.C93')"
   ]
  },
  {
   "cell_type": "code",
   "execution_count": null,
   "metadata": {},
   "outputs": [],
   "source": [
    "# data_tfidf['M.1353503637.A.14B']\n",
    "docID_name['M.1353503637.A.14B']"
   ]
  },
  {
   "cell_type": "code",
   "execution_count": null,
   "metadata": {},
   "outputs": [],
   "source": []
  }
 ]
}