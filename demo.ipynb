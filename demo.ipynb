{
 "metadata": {
  "language_info": {
   "codemirror_mode": {
    "name": "ipython",
    "version": 3
   },
   "file_extension": ".py",
   "mimetype": "text/x-python",
   "name": "python",
   "nbconvert_exporter": "python",
   "pygments_lexer": "ipython3",
   "version": 3
  },
  "orig_nbformat": 2
 },
 "nbformat": 4,
 "nbformat_minor": 2,
 "cells": [
  {
   "cell_type": "code",
   "execution_count": null,
   "metadata": {},
   "outputs": [],
   "source": [
    "# 用比較快快的json parser : ujson\n",
    "try:\n",
    "    import ujson as json\n",
    "except ImportError:\n",
    "    try:\n",
    "        import simplejson as json\n",
    "    except ImportError:\n",
    "        import json\n",
    "\n",
    "import math\n",
    "\n",
    "\n",
    "# load tfidf\n",
    "def readJson2Data(filename):\n",
    "  f = open(filename, \"r\", encoding='UTF-8')\n",
    "  docText = f.read()\n",
    "  f.close()\n",
    "  return json.loads(docText)\n"
   ]
  },
  {
   "cell_type": "code",
   "execution_count": null,
   "metadata": {},
   "outputs": [],
   "source": [
    "\n",
    "\n",
    "\n",
    "DOC_NAME = 'data_user-docIDs.json'\n",
    "name_docid = readJson2Data(DOC_NAME)\n",
    "# map<userID,list[docID]>\n",
    "\n",
    "NLVECTOR = 'name-docID_NLvector.json'\n",
    "docID_name_NLvector = readJson2Data(NLVECTOR)\n",
    "# 預先算好的tfidf 單位向量 字典\n",
    "# map<docID,map{word:tf}>\n",
    "\n"
   ]
  },
  {
   "cell_type": "code",
   "execution_count": null,
   "metadata": {},
   "outputs": [],
   "source": [
    "def findCommonWordSet(ida,idb):\n",
    "    CommonWordSet = set()\n",
    "    Aset = set( docID_name_NLvector[ida].keys() )\n",
    "    Bset = set( docID_name_NLvector[idb].keys() )\n",
    "\n",
    "    for token in Aset:\n",
    "        if token in Bset:\n",
    "            CommonWordSet.add(token)\n",
    "    return CommonWordSet"
   ]
  },
  {
   "cell_type": "code",
   "execution_count": null,
   "metadata": {},
   "outputs": [],
   "source": [
    "def cos(ida,idb):\n",
    "    # get calNormalizedLength\n",
    "    ida_NL = docID_name_NLvector[ida]\n",
    "    idb_NL = docID_name_NLvector[idb]\n",
    "    \n",
    "\n",
    "    # findCommonWordSet\n",
    "    commonWordSet = findCommonWordSet(ida,idb)\n",
    "\n",
    "    # calCos  內積\n",
    "    sum = 0\n",
    "    for word in commonWordSet:\n",
    "        sum = sum + ida_NL[word] * idb_NL[word]\n",
    "    \n",
    "    return sum"
   ]
  },
  {
   "cell_type": "code",
   "execution_count": null,
   "metadata": {},
   "outputs": [],
   "source": [
    "import threading\n",
    "import time\n",
    "import queue\n",
    "\n",
    "results = {}\n",
    "docIDs = docID_name_NLvector.keys()\n"
   ]
  },
  {
   "cell_type": "code",
   "execution_count": null,
   "metadata": {},
   "outputs": [],
   "source": [
    "#開啟多個執行緒，同時執行任務，有幾個執行緒就執行幾個任務\n",
    "\n",
    "\n",
    "class MyThread(threading.Thread):\n",
    "    def __init__(self, func):\n",
    "        threading.Thread.__init__(self)\n",
    "        self.func = func\n",
    "    def run(self):\n",
    "        self.func()\n",
    "\n",
    "def worker():\n",
    "    while not q.empty():\n",
    "        item = q.get()  # 獲得任務\n",
    "        print('Processing : ',item)\n",
    "        # 拿到不同的docid  應該可以再改進\n",
    "        doca , docb = item.split('+')\n",
    "        try:\n",
    "            results[docb] = cos(doca,docb)\n",
    "        except:\n",
    "            print('error ' + doca + '  '+ docb)\n",
    "\n",
    "def main(name):\n",
    "    threads = []\n",
    "    targetList = getTargetDocs(name)\n",
    "    # 產生task list\n",
    "    for doc in targetList:\n",
    "        for pttdoc in docIDs:\n",
    "            q.put(doc + '+' +pttdoc)\n",
    "\n",
    "            # 讓我知道現在queue到哪了\n",
    "            if ( q.qsize() % 10000 ) == 0:\n",
    "                print(q.qsize())\n",
    "\n",
    "    for i in range(threadNum):   #開啟n個執行緒\n",
    "        thread = MyThread(worker)\n",
    "        thread.start()\n",
    "        threads.append(thread)\n",
    "    for thread in threads:\n",
    "        thread.join()\n",
    "\n",
    "if __name__ == '__main__':\n",
    "    q = queue.Queue()\n",
    "    threadNum = 24\n",
    "    \n",
    "    # name = ui()\n",
    "    name = 'Kay731'\n",
    "    if name == 0:\n",
    "        print(\"retry\")\n",
    "    else:\n",
    "        main(name)"
   ]
  },
  {
   "cell_type": "code",
   "execution_count": null,
   "metadata": {},
   "outputs": [],
   "source": []
  }
 ]
}